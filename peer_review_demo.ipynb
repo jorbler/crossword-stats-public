{
 "cells": [
  {
   "cell_type": "code",
   "execution_count": 2,
   "metadata": {},
   "outputs": [],
   "source": [
    "from src.create_graphs import *\n",
    "import pandas as pd\n",
    "import os"
   ]
  },
  {
   "cell_type": "markdown",
   "metadata": {},
   "source": [
    "# Peer Review for DATA 440 Automation & Workflows"
   ]
  },
  {
   "cell_type": "markdown",
   "metadata": {},
   "source": [
    "# Introduction"
   ]
  },
  {
   "cell_type": "markdown",
   "metadata": {},
   "source": [
    "My GUI app is not ready yet, but I have all of the components ready so I have created a demo here. If you want to use your own crossword data, follow the instructions at the bottom of the README. If you do not want to wait for your data to load or do not have a NYT Games account, my own data is in the \"data\" folder in this repository and you can use that for the graphs."
   ]
  },
  {
   "cell_type": "markdown",
   "metadata": {},
   "source": [
    "## Data\n",
    "\n",
    "When a user first opens the app, all of their data must be loaded. src/`get_all_data.py` (when run from the command line) asks the user to input their cookie. The user is then asked what kind of puzzle data they would like to load (daily, mini, or bonus). Regardless of what kind of puzzle the user inputs, the desired start date that they want to load is asked. This is so that if someone only started solving crosswords two months ago, the app will not scrape data for the last three years and waste time. \n",
    "\n",
    "### Naming convention for data\n",
    "\n",
    "The name for each of the data files all follow the same naming convention:\n",
    "\n",
    "[puzzle type]\\_[start date]\\_[end date].csv\n",
    "\n",
    "Every time data is loaded, the name of the file is updated so that the next time that the app loads new data, it knows the date of the most recent data (aka the start data of the next load). The end date will always be the previous day (ie if today is 11/22/24, and the most recent new data load was 11/17/24, the app will load 11/18/24 - 11/21/24)."
   ]
  },
  {
   "cell_type": "code",
   "execution_count": 3,
   "metadata": {},
   "outputs": [
    {
     "data": {
      "text/plain": [
       "['mini_20140821_20241117.csv',\n",
       " 'bonus_20220101_20241104.csv',\n",
       " 'daily_20220101_20241117.csv']"
      ]
     },
     "execution_count": 3,
     "metadata": {},
     "output_type": "execute_result"
    }
   ],
   "source": [
    "data_files = os.listdir(\"data/\")\n",
    "data_files"
   ]
  },
  {
   "cell_type": "markdown",
   "metadata": {},
   "source": [
    "# Mini Puzzle"
   ]
  },
  {
   "cell_type": "markdown",
   "metadata": {},
   "source": [
    "## Data"
   ]
  },
  {
   "cell_type": "code",
   "execution_count": 4,
   "metadata": {},
   "outputs": [
    {
     "data": {
      "text/html": [
       "<div>\n",
       "<style scoped>\n",
       "    .dataframe tbody tr th:only-of-type {\n",
       "        vertical-align: middle;\n",
       "    }\n",
       "\n",
       "    .dataframe tbody tr th {\n",
       "        vertical-align: top;\n",
       "    }\n",
       "\n",
       "    .dataframe thead th {\n",
       "        text-align: right;\n",
       "    }\n",
       "</style>\n",
       "<table border=\"1\" class=\"dataframe\">\n",
       "  <thead>\n",
       "    <tr style=\"text-align: right;\">\n",
       "      <th></th>\n",
       "      <th>puzzle_id</th>\n",
       "      <th>seconds_spent_solving</th>\n",
       "      <th>author</th>\n",
       "      <th>editor</th>\n",
       "      <th>format_type</th>\n",
       "      <th>print_date</th>\n",
       "      <th>publish_type</th>\n",
       "      <th>title</th>\n",
       "      <th>version</th>\n",
       "      <th>percent_filled</th>\n",
       "      <th>solved</th>\n",
       "      <th>star</th>\n",
       "      <th>day</th>\n",
       "    </tr>\n",
       "  </thead>\n",
       "  <tbody>\n",
       "    <tr>\n",
       "      <th>0</th>\n",
       "      <td>9360</td>\n",
       "      <td>127.0</td>\n",
       "      <td>Joel Fagliano</td>\n",
       "      <td>NaN</td>\n",
       "      <td>Normal</td>\n",
       "      <td>2014-09-01</td>\n",
       "      <td>Mini</td>\n",
       "      <td>NaN</td>\n",
       "      <td>1</td>\n",
       "      <td>100</td>\n",
       "      <td>True</td>\n",
       "      <td>NaN</td>\n",
       "      <td>Monday</td>\n",
       "    </tr>\n",
       "    <tr>\n",
       "      <th>1</th>\n",
       "      <td>9362</td>\n",
       "      <td>165.0</td>\n",
       "      <td>Joel Fagliano</td>\n",
       "      <td>NaN</td>\n",
       "      <td>Normal</td>\n",
       "      <td>2014-09-02</td>\n",
       "      <td>Mini</td>\n",
       "      <td>NaN</td>\n",
       "      <td>2</td>\n",
       "      <td>100</td>\n",
       "      <td>True</td>\n",
       "      <td>NaN</td>\n",
       "      <td>Tuesday</td>\n",
       "    </tr>\n",
       "    <tr>\n",
       "      <th>2</th>\n",
       "      <td>9363</td>\n",
       "      <td>112.0</td>\n",
       "      <td>Joel Fagliano</td>\n",
       "      <td>NaN</td>\n",
       "      <td>Normal</td>\n",
       "      <td>2014-09-03</td>\n",
       "      <td>Mini</td>\n",
       "      <td>NaN</td>\n",
       "      <td>1</td>\n",
       "      <td>100</td>\n",
       "      <td>True</td>\n",
       "      <td>NaN</td>\n",
       "      <td>Wednesday</td>\n",
       "    </tr>\n",
       "    <tr>\n",
       "      <th>3</th>\n",
       "      <td>9393</td>\n",
       "      <td>142.0</td>\n",
       "      <td>Joel Fagliano</td>\n",
       "      <td>NaN</td>\n",
       "      <td>Normal</td>\n",
       "      <td>2014-09-04</td>\n",
       "      <td>Mini</td>\n",
       "      <td>NaN</td>\n",
       "      <td>1</td>\n",
       "      <td>100</td>\n",
       "      <td>True</td>\n",
       "      <td>NaN</td>\n",
       "      <td>Thursday</td>\n",
       "    </tr>\n",
       "    <tr>\n",
       "      <th>4</th>\n",
       "      <td>9391</td>\n",
       "      <td>104.0</td>\n",
       "      <td>Joel Fagliano</td>\n",
       "      <td>NaN</td>\n",
       "      <td>Normal</td>\n",
       "      <td>2014-09-05</td>\n",
       "      <td>Mini</td>\n",
       "      <td>NaN</td>\n",
       "      <td>1</td>\n",
       "      <td>100</td>\n",
       "      <td>True</td>\n",
       "      <td>NaN</td>\n",
       "      <td>Friday</td>\n",
       "    </tr>\n",
       "  </tbody>\n",
       "</table>\n",
       "</div>"
      ],
      "text/plain": [
       "   puzzle_id  seconds_spent_solving         author editor format_type  \\\n",
       "0       9360                  127.0  Joel Fagliano    NaN      Normal   \n",
       "1       9362                  165.0  Joel Fagliano    NaN      Normal   \n",
       "2       9363                  112.0  Joel Fagliano    NaN      Normal   \n",
       "3       9393                  142.0  Joel Fagliano    NaN      Normal   \n",
       "4       9391                  104.0  Joel Fagliano    NaN      Normal   \n",
       "\n",
       "   print_date publish_type title  version  percent_filled  solved  star  \\\n",
       "0  2014-09-01         Mini   NaN        1             100    True   NaN   \n",
       "1  2014-09-02         Mini   NaN        2             100    True   NaN   \n",
       "2  2014-09-03         Mini   NaN        1             100    True   NaN   \n",
       "3  2014-09-04         Mini   NaN        1             100    True   NaN   \n",
       "4  2014-09-05         Mini   NaN        1             100    True   NaN   \n",
       "\n",
       "         day  \n",
       "0     Monday  \n",
       "1    Tuesday  \n",
       "2  Wednesday  \n",
       "3   Thursday  \n",
       "4     Friday  "
      ]
     },
     "execution_count": 4,
     "metadata": {},
     "output_type": "execute_result"
    }
   ],
   "source": [
    "pd.read_csv(\"data/\" + [file for file in data_files if file.startswith(\"mini\")][0]).head()"
   ]
  },
  {
   "cell_type": "markdown",
   "metadata": {},
   "source": [
    "To get new data, the `daily_refresh.py` is run. The user is again prompted for their cookie, however once this is implemented into the app it will already be stored. Everytime the user opens the app, this will be done automatically. \n",
    "\n",
    "If a user has not opened the app in more than 60 days, a window will pop up asking if they want to refresh the data with a warning that it may take a few minutes. "
   ]
  },
  {
   "cell_type": "markdown",
   "metadata": {},
   "source": [
    "## Visualizations\n",
    "\n",
    "This is the main visualization that I have for the mini crossword right now. Currently, there are no statistics or visualizations provided at all by NYT Games. It takes data from the past 100 mini puzzles solved, but think I will make the number of days to display a slider on the app. This visualization also excludes Saturday puzzles because they are 7x7 grids, while the rest of the week is a 5x5 grid."
   ]
  },
  {
   "cell_type": "code",
   "execution_count": 5,
   "metadata": {},
   "outputs": [
    {
     "data": {
      "image/png": "[encoded data removed]",
      "text/plain": [
       "<Figure size 720x432 with 2 Axes>"
      ]
     },
     "metadata": {
      "needs_background": "light"
     },
     "output_type": "display_data"
    }
   ],
   "source": [
    "create_mini_hist_box()"
   ]
  },
  {
   "cell_type": "markdown",
   "metadata": {},
   "source": [
    "# Daily Puzzle\n"
   ]
  },
  {
   "cell_type": "markdown",
   "metadata": {},
   "source": [
    "## Data"
   ]
  },
  {
   "cell_type": "code",
   "execution_count": 6,
   "metadata": {},
   "outputs": [
    {
     "data": {
      "text/html": [
       "<div>\n",
       "<style scoped>\n",
       "    .dataframe tbody tr th:only-of-type {\n",
       "        vertical-align: middle;\n",
       "    }\n",
       "\n",
       "    .dataframe tbody tr th {\n",
       "        vertical-align: top;\n",
       "    }\n",
       "\n",
       "    .dataframe thead th {\n",
       "        text-align: right;\n",
       "    }\n",
       "</style>\n",
       "<table border=\"1\" class=\"dataframe\">\n",
       "  <thead>\n",
       "    <tr style=\"text-align: right;\">\n",
       "      <th></th>\n",
       "      <th>puzzle_id</th>\n",
       "      <th>seconds_spent_solving</th>\n",
       "      <th>author</th>\n",
       "      <th>editor</th>\n",
       "      <th>format_type</th>\n",
       "      <th>print_date</th>\n",
       "      <th>publish_type</th>\n",
       "      <th>title</th>\n",
       "      <th>version</th>\n",
       "      <th>percent_filled</th>\n",
       "      <th>solved</th>\n",
       "      <th>star</th>\n",
       "      <th>day</th>\n",
       "    </tr>\n",
       "  </thead>\n",
       "  <tbody>\n",
       "    <tr>\n",
       "      <th>0</th>\n",
       "      <td>19785</td>\n",
       "      <td>NaN</td>\n",
       "      <td>Peter Wentz</td>\n",
       "      <td>Will Shortz</td>\n",
       "      <td>Normal</td>\n",
       "      <td>2022-01-01</td>\n",
       "      <td>Daily</td>\n",
       "      <td>NaN</td>\n",
       "      <td>0</td>\n",
       "      <td>0</td>\n",
       "      <td>False</td>\n",
       "      <td>NaN</td>\n",
       "      <td>Saturday</td>\n",
       "    </tr>\n",
       "    <tr>\n",
       "      <th>1</th>\n",
       "      <td>19784</td>\n",
       "      <td>NaN</td>\n",
       "      <td>Paolo Pasco</td>\n",
       "      <td>Will Shortz</td>\n",
       "      <td>Normal</td>\n",
       "      <td>2022-01-02</td>\n",
       "      <td>Daily</td>\n",
       "      <td>Color Mixing</td>\n",
       "      <td>0</td>\n",
       "      <td>0</td>\n",
       "      <td>False</td>\n",
       "      <td>NaN</td>\n",
       "      <td>Sunday</td>\n",
       "    </tr>\n",
       "    <tr>\n",
       "      <th>2</th>\n",
       "      <td>19802</td>\n",
       "      <td>1339.0</td>\n",
       "      <td>Beth Rubin and Trent H. Evans</td>\n",
       "      <td>Will Shortz</td>\n",
       "      <td>Normal</td>\n",
       "      <td>2022-01-03</td>\n",
       "      <td>Daily</td>\n",
       "      <td>NaN</td>\n",
       "      <td>0</td>\n",
       "      <td>100</td>\n",
       "      <td>True</td>\n",
       "      <td>NaN</td>\n",
       "      <td>Monday</td>\n",
       "    </tr>\n",
       "    <tr>\n",
       "      <th>3</th>\n",
       "      <td>19807</td>\n",
       "      <td>1236.0</td>\n",
       "      <td>David Bukszpan</td>\n",
       "      <td>Will Shortz</td>\n",
       "      <td>Normal</td>\n",
       "      <td>2022-01-04</td>\n",
       "      <td>Daily</td>\n",
       "      <td>NaN</td>\n",
       "      <td>0</td>\n",
       "      <td>100</td>\n",
       "      <td>True</td>\n",
       "      <td>NaN</td>\n",
       "      <td>Tuesday</td>\n",
       "    </tr>\n",
       "    <tr>\n",
       "      <th>4</th>\n",
       "      <td>19804</td>\n",
       "      <td>NaN</td>\n",
       "      <td>Damon Gulczynski</td>\n",
       "      <td>Will Shortz</td>\n",
       "      <td>Normal</td>\n",
       "      <td>2022-01-05</td>\n",
       "      <td>Daily</td>\n",
       "      <td>NaN</td>\n",
       "      <td>0</td>\n",
       "      <td>0</td>\n",
       "      <td>False</td>\n",
       "      <td>NaN</td>\n",
       "      <td>Wednesday</td>\n",
       "    </tr>\n",
       "  </tbody>\n",
       "</table>\n",
       "</div>"
      ],
      "text/plain": [
       "   puzzle_id  seconds_spent_solving                         author  \\\n",
       "0      19785                    NaN                    Peter Wentz   \n",
       "1      19784                    NaN                    Paolo Pasco   \n",
       "2      19802                 1339.0  Beth Rubin and Trent H. Evans   \n",
       "3      19807                 1236.0                 David Bukszpan   \n",
       "4      19804                    NaN               Damon Gulczynski   \n",
       "\n",
       "        editor format_type  print_date publish_type         title  version  \\\n",
       "0  Will Shortz      Normal  2022-01-01        Daily           NaN        0   \n",
       "1  Will Shortz      Normal  2022-01-02        Daily  Color Mixing        0   \n",
       "2  Will Shortz      Normal  2022-01-03        Daily           NaN        0   \n",
       "3  Will Shortz      Normal  2022-01-04        Daily           NaN        0   \n",
       "4  Will Shortz      Normal  2022-01-05        Daily           NaN        0   \n",
       "\n",
       "   percent_filled  solved star        day  \n",
       "0               0   False  NaN   Saturday  \n",
       "1               0   False  NaN     Sunday  \n",
       "2             100    True  NaN     Monday  \n",
       "3             100    True  NaN    Tuesday  \n",
       "4               0   False  NaN  Wednesday  "
      ]
     },
     "execution_count": 6,
     "metadata": {},
     "output_type": "execute_result"
    }
   ],
   "source": [
    "pd.read_csv(\"data/\" + [file for file in data_files if file.startswith(\"daily\")][0]).head()"
   ]
  },
  {
   "cell_type": "markdown",
   "metadata": {},
   "source": [
    "## Visualizations"
   ]
  },
  {
   "cell_type": "markdown",
   "metadata": {},
   "source": [
    "I created two visualizations for the daily puzzles. \n",
    "\n",
    "First, I made a histogram that takes a day of the week as input. It is important to note that the difficulty of NYT crosswords varies greatly throughout the week:\n",
    "\n",
    "Monday - easiest\n",
    "\n",
    "Tuesday - a touch harder than Monday, but still relatively easy\n",
    "\n",
    "Wednesday - more difficult than Monday and Tuesday\n",
    "\n",
    "Thursday - not necessarily more difficult than Wednesday in the content of the clues, but in the wordplay is more difficult\n",
    "\n",
    "Friday - more difficult than Wednesday and Thursday\n",
    "\n",
    "Saturday - most difficult of the week (I usually struggle with Saturdays and rarely finish them)\n",
    "\n",
    "Sunday - Wednesday/Thursday difficulty but larger grid (21x21) than the rest of the week's puzzles (15x15)\n",
    "\n",
    "The histogram shows the best time, average (mean) time, and the most recent time, keeping with the statistics that NYT Games provides, but providing more insight into the spread of their data.\n"
   ]
  },
  {
   "cell_type": "code",
   "execution_count": 7,
   "metadata": {},
   "outputs": [
    {
     "data": {
      "image/png": "[encoded data removed]",
      "text/plain": [
       "<Figure size 576x432 with 1 Axes>"
      ]
     },
     "metadata": {
      "needs_background": "light"
     },
     "output_type": "display_data"
    }
   ],
   "source": [
    "create_hist(\"Monday\")"
   ]
  },
  {
   "cell_type": "markdown",
   "metadata": {},
   "source": [
    "The other visualization that I have is a bar graph that compares the average time for all days of the week. One thing that I would like to add to this puzzle is the number of puzzles for each day in each bar."
   ]
  },
  {
   "cell_type": "code",
   "execution_count": 8,
   "metadata": {},
   "outputs": [
    {
     "data": {
      "image/png": "[encoded data removed]",
      "text/plain": [
       "<Figure size 576x432 with 1 Axes>"
      ]
     },
     "metadata": {
      "needs_background": "light"
     },
     "output_type": "display_data"
    }
   ],
   "source": [
    "create_compare_ave_times()"
   ]
  },
  {
   "cell_type": "markdown",
   "metadata": {},
   "source": [
    "# Bonus Puzzles"
   ]
  },
  {
   "cell_type": "markdown",
   "metadata": {},
   "source": [
    "Visualizations for the Bonus puzzles are still TBD. They only come out once a month, are not available on the app, and are not solved by many users however, I do not want to neglect them. These puzzles are also strongly tied to a theme. For example, October 2024's bonus was called \"Send My Regards to Broadway!\" and most clues were about Broadway shows, while October 2023's bonus was called \"National Homemade Cookie Day\" and most of the clues were about cookies. Because of this, I am thinking about classifying puzzles with a certain categories and showing users how well they perform in different categories (arts, sports, pop culture, history, etc.). "
   ]
  }
 ],
 "metadata": {
  "kernelspec": {
   "display_name": "base",
   "language": "python",
   "name": "python3"
  },
  "language_info": {
   "codemirror_mode": {
    "name": "ipython",
    "version": 3
   },
   "file_extension": ".py",
   "mimetype": "text/x-python",
   "name": "python",
   "nbconvert_exporter": "python",
   "pygments_lexer": "ipython3",
   "version": "3.8.8"
  }
 },
 "nbformat": 4,
 "nbformat_minor": 2
}
